{
 "cells": [
  {
   "cell_type": "code",
   "execution_count": 1,
   "id": "3dd6b0ec-1ee3-419e-8494-12badd5828b3",
   "metadata": {
    "tags": []
   },
   "outputs": [],
   "source": [
    "class1_x_value =[ 0,1,2,3,4]\n",
    "class1_y_value = [1,3,5,7,9]"
   ]
  },
  {
   "cell_type": "code",
   "execution_count": null,
   "id": "1d60bfb7-8832-42b5-822e-17775441f1d8",
   "metadata": {},
   "outputs": [],
   "source": []
  },
  {
   "cell_type": "code",
   "execution_count": null,
   "id": "484ebc17-46ad-400e-bff0-1b8e659779c7",
   "metadata": {},
   "outputs": [],
   "source": [
    "class2_x-value = [0, 1, 2, 3, 4]\n",
    "class2_y_valus = [1, 3, 5, 7, 9]"
   ]
  },
  {
   "cell_type": "code",
   "execution_count": null,
   "id": "344eb034-1363-4af2-a31c-ba3f0cc0f739",
   "metadata": {},
   "outputs": [],
   "source": [
    "plt.scatter(x=class1_x_value, y=class1_y_value)\n",
    "plt.scatter(x=class2_x_value, y=class2_y_value)\n",
    "plt.show()"
   ]
  },
  {
   "cell_type": "code",
   "execution_count": null,
   "id": "c0e36bb2-b0d8-4000-98b4-8d5a5fd16c24",
   "metadata": {},
   "outputs": [],
   "source": []
  },
  {
   "cell_type": "code",
   "execution_count": null,
   "id": "ea70dc84-d3b4-4c60-aae6-c915b7a49fd4",
   "metadata": {},
   "outputs": [],
   "source": [
    "#두 클래스 변수\n",
    "plt.scatter(x=class1_x_value, y=class1_y_value)\n",
    "plt.scatter(x=class2_x_value, y=class2_y_value)\n",
    "plt.show()"
   ]
  },
  {
   "cell_type": "code",
   "execution_count": null,
   "id": "aee8e581-01aa-4540-b9d5-a36d7fff1073",
   "metadata": {},
   "outputs": [],
   "source": [
    "### title, label,legend(제목, 레이블, 범례)"
   ]
  },
  {
   "cell_type": "code",
   "execution_count": null,
   "id": "dbc04c28-4cfc-489d-8ca4-9c8fa5ab1da7",
   "metadata": {},
   "outputs": [],
   "source": [
    "plt.scatter(x=class1_x_value, y=class1_y_value,label ='')\n",
    "plt.scatter(x=class2_x_value, y=class2_y_value)\n",
    "plt.show()"
   ]
  },
  {
   "cell_type": "code",
   "execution_count": null,
   "id": "b01f201d-7875-4081-8ba1-7c1293b104bf",
   "metadata": {},
   "outputs": [],
   "source": [
    "class3_x_value =[ 2,3,4, 0,1]\n",
    "class1_y_value = [5,7,9,1,3]\n",
    "plt.show()"
   ]
  },
  {
   "cell_type": "code",
   "execution_count": null,
   "id": "64cc6810-9a1b-4319-8542-1a461a740036",
   "metadata": {},
   "outputs": [],
   "source": [
    "class3_x_value = [2,3.5,0,5,1,8]\n",
    "class3_y_value = [5,6,1,-1,0,3]\n",
    "class3_x_value, len(class3_x_value), class3_y_value, len(class3_y_value)\n",
    "plt.scatter(x=class3_x_value, y=class3_y_value)"
   ]
  }
 ],
 "metadata": {
  "kernelspec": {
   "display_name": "Python 3 (ipykernel)",
   "language": "python",
   "name": "python3"
  },
  "language_info": {
   "codemirror_mode": {
    "name": "ipython",
    "version": 3
   },
   "file_extension": ".py",
   "mimetype": "text/x-python",
   "name": "python",
   "nbconvert_exporter": "python",
   "pygments_lexer": "ipython3",
   "version": "3.11.3"
  }
 },
 "nbformat": 4,
 "nbformat_minor": 5
}
