{
 "cells": [
  {
   "cell_type": "code",
   "execution_count": 4,
   "id": "c5b2ea97-c6df-434a-a7cd-7d0ebd95950f",
   "metadata": {},
   "outputs": [],
   "source": [
    "## 요약\n",
    "#df_saladays_dropcol.pivot_table(index='반품여부'Value='가격')\n",
    "#pd.pivot_toble(data=df_saledays_dropcol,index='반품여부',values ='가격')"
   ]
  },
  {
   "cell_type": "code",
   "execution_count": 2,
   "id": "8420984e-5279-4b3b-a7c0-023ffe6aa3cb",
   "metadata": {},
   "outputs": [
    {
     "ename": "NameError",
     "evalue": "name 'pd' is not defined",
     "output_type": "error",
     "traceback": [
      "\u001b[1;31m---------------------------------------------------------------------------\u001b[0m",
      "\u001b[1;31mNameError\u001b[0m                                 Traceback (most recent call last)",
      "Cell \u001b[1;32mIn[2], line 1\u001b[0m\n\u001b[1;32m----> 1\u001b[0m pd\u001b[38;5;241m.\u001b[39mpivot_table(data\u001b[38;5;241m=\u001b[39mdf_saledays_)\n",
      "\u001b[1;31mNameError\u001b[0m: name 'pd' is not defined"
     ]
    }
   ],
   "source": [
    "pd.pivot_table(data=df_saledays_)"
   ]
  },
  {
   "cell_type": "code",
   "execution_count": null,
   "id": "9f00fdf5-b3e9-48f9-b4a9-b0f6f5cbe8b1",
   "metadata": {},
   "outputs": [],
   "source": []
  },
  {
   "cell_type": "code",
   "execution_count": null,
   "id": "3c3998ea-e212-48c6-9b4f-2caee7f943a9",
   "metadata": {},
   "outputs": [],
   "source": [
    "df-saledays #df-saledays.['가격'].mean # 가격확인"
   ]
  },
  {
   "cell_type": "code",
   "execution_count": 3,
   "id": "dd501ffc-d410-49af-a192-84a77fdea23e",
   "metadata": {
    "tags": []
   },
   "outputs": [
    {
     "ename": "NameError",
     "evalue": "name 'mean_functions' is not defined",
     "output_type": "error",
     "traceback": [
      "\u001b[1;31m---------------------------------------------------------------------------\u001b[0m",
      "\u001b[1;31mNameError\u001b[0m                                 Traceback (most recent call last)",
      "Cell \u001b[1;32mIn[3], line 1\u001b[0m\n\u001b[1;32m----> 1\u001b[0m mean_functions(\u001b[38;5;241m750\u001b[39m)\n",
      "\u001b[1;31mNameError\u001b[0m: name 'mean_functions' is not defined"
     ]
    }
   ],
   "source": [
    "mean_functions(750)"
   ]
  },
  {
   "cell_type": "code",
   "execution_count": 6,
   "id": "797672ff-c7b0-4e5d-9c22-dc060ffa9fea",
   "metadata": {
    "tags": []
   },
   "outputs": [
    {
     "ename": "NameError",
     "evalue": "name 'df' is not defined",
     "output_type": "error",
     "traceback": [
      "\u001b[1;31m---------------------------------------------------------------------------\u001b[0m",
      "\u001b[1;31mNameError\u001b[0m                                 Traceback (most recent call last)",
      "Cell \u001b[1;32mIn[6], line 1\u001b[0m\n\u001b[1;32m----> 1\u001b[0m df\u001b[38;5;241m-\u001b[39msaledays[\u001b[38;5;124m'\u001b[39m\u001b[38;5;124m가격\u001b[39m\u001b[38;5;124m'\u001b[39m]\u001b[38;5;241m.\u001b[39mapply(mean_function)\n",
      "\u001b[1;31mNameError\u001b[0m: name 'df' is not defined"
     ]
    }
   ],
   "source": [
    "df-saledays['가격'].apply(mean_function)"
   ]
  },
  {
   "cell_type": "code",
   "execution_count": 5,
   "id": "885e8c67-f551-4efe-8d01-627363370c69",
   "metadata": {
    "tags": []
   },
   "outputs": [
    {
     "ename": "IndentationError",
     "evalue": "unindent does not match any outer indentation level (<tokenize>, line 3)",
     "output_type": "error",
     "traceback": [
      "\u001b[1;36m  File \u001b[1;32m<tokenize>:3\u001b[1;36m\u001b[0m\n\u001b[1;33m    return result\u001b[0m\n\u001b[1;37m    ^\u001b[0m\n\u001b[1;31mIndentationError\u001b[0m\u001b[1;31m:\u001b[0m unindent does not match any outer indentation level\n"
     ]
    }
   ],
   "source": [
    "def mean_functions(cell_value) :\n",
    "     result =1750-cell_value # 가격 평균 -개별 값\n",
    "    return result "
   ]
  },
  {
   "cell_type": "code",
   "execution_count": null,
   "id": "0baf05d2-58e7-44f3-a1e8-47ef1ed57c16",
   "metadata": {},
   "outputs": [],
   "source": [
    "df-saledays['가격차이']= df-saledays['가격'] # celle당 평균 차이 값"
   ]
  },
  {
   "cell_type": "markdown",
   "id": "ff1b0121-d9e2-4b0a-abed-a537ad25bda6",
   "metadata": {},
   "source": [
    "Series\n",
    "- index-data"
   ]
  },
  {
   "cell_type": "markdown",
   "id": "3ecf1486-eba3-4140-b886-737ccf6b101f",
   "metadata": {},
   "source": [
    "통계 수치 표현"
   ]
  },
  {
   "cell_type": "code",
   "execution_count": 1,
   "id": "cc8c017a-f98a-48ef-9db1-b774502c691a",
   "metadata": {
    "tags": []
   },
   "outputs": [
    {
     "ename": "ModuleNotFoundError",
     "evalue": "No module named 'unmpy'",
     "output_type": "error",
     "traceback": [
      "\u001b[1;31m---------------------------------------------------------------------------\u001b[0m",
      "\u001b[1;31mModuleNotFoundError\u001b[0m                       Traceback (most recent call last)",
      "Cell \u001b[1;32mIn[1], line 1\u001b[0m\n\u001b[1;32m----> 1\u001b[0m \u001b[38;5;28;01mimport\u001b[39;00m \u001b[38;5;21;01munmpy\u001b[39;00m \u001b[38;5;28;01mas\u001b[39;00m \u001b[38;5;21;01mnp\u001b[39;00m\n",
      "\u001b[1;31mModuleNotFoundError\u001b[0m: No module named 'unmpy'"
     ]
    }
   ],
   "source": [
    "import unmpy as np # unmpy 숫자만 (행 )"
   ]
  },
  {
   "cell_type": "code",
   "execution_count": 2,
   "id": "72a77679-f452-4dfb-bb64-ff1ff459ca5c",
   "metadata": {
    "tags": []
   },
   "outputs": [
    {
     "ename": "NameError",
     "evalue": "name 'np' is not defined",
     "output_type": "error",
     "traceback": [
      "\u001b[1;31m---------------------------------------------------------------------------\u001b[0m",
      "\u001b[1;31mNameError\u001b[0m                                 Traceback (most recent call last)",
      "Cell \u001b[1;32mIn[2], line 1\u001b[0m\n\u001b[1;32m----> 1\u001b[0m arr \u001b[38;5;241m=\u001b[39m np\u001b[38;5;241m.\u001b[39marray([\u001b[38;5;241m6\u001b[39m, \u001b[38;5;241m4\u001b[39m, \u001b[38;5;241m1\u001b[39m, \u001b[38;5;241m3\u001b[39m, \u001b[38;5;241m5\u001b[39m, \u001b[38;5;241m3\u001b[39m, \u001b[38;5;241m10\u001b[39m, \u001b[38;5;241m7\u001b[39m, \u001b[38;5;241m9\u001b[39m])\n\u001b[0;32m      2\u001b[0m arr\n",
      "\u001b[1;31mNameError\u001b[0m: name 'np' is not defined"
     ]
    }
   ],
   "source": [
    "arr = np.array([6, 4, 1, 3, 5, 3, 10, 7, 9])\n",
    "arr"
   ]
  },
  {
   "cell_type": "code",
   "execution_count": 3,
   "id": "5dcd23b0-7e01-409e-b120-349f02293380",
   "metadata": {
    "tags": []
   },
   "outputs": [
    {
     "ename": "NameError",
     "evalue": "name 'np' is not defined",
     "output_type": "error",
     "traceback": [
      "\u001b[1;31m---------------------------------------------------------------------------\u001b[0m",
      "\u001b[1;31mNameError\u001b[0m                                 Traceback (most recent call last)",
      "Cell \u001b[1;32mIn[3], line 2\u001b[0m\n\u001b[0;32m      1\u001b[0m \u001b[38;5;66;03m# 평균\u001b[39;00m\n\u001b[1;32m----> 2\u001b[0m np\u001b[38;5;241m.\u001b[39mmean(arr)\n",
      "\u001b[1;31mNameError\u001b[0m: name 'np' is not defined"
     ]
    }
   ],
   "source": [
    "# 평균,합계\n",
    "np.mean(arr), np.\n",
    "--5.33333333"
   ]
  },
  {
   "cell_type": "code",
   "execution_count": 1,
   "id": "4c6bab78-5275-4135-8f7e-064c8f8f32c9",
   "metadata": {},
   "outputs": [
    {
     "ename": "NameError",
     "evalue": "name 'np' is not defined",
     "output_type": "error",
     "traceback": [
      "\u001b[1;31m---------------------------------------------------------------------------\u001b[0m",
      "\u001b[1;31mNameError\u001b[0m                                 Traceback (most recent call last)",
      "Cell \u001b[1;32mIn[1], line 2\u001b[0m\n\u001b[0;32m      1\u001b[0m \u001b[38;5;66;03m# 중앙값 \u001b[39;00m\n\u001b[1;32m----> 2\u001b[0m np\u001b[38;5;241m.\u001b[39mmedidan(arr)\n\u001b[0;32m      3\u001b[0m \u001b[38;5;241m-\u001b[39m\u001b[38;5;241m-\u001b[39m\u001b[38;5;241m5.0\u001b[39m\n",
      "\u001b[1;31mNameError\u001b[0m: name 'np' is not defined"
     ]
    }
   ],
   "source": [
    "# 중앙값 \n",
    "np.medidan(arr)\n",
    "--5.0"
   ]
  },
  {
   "cell_type": "code",
   "execution_count": 2,
   "id": "3979ee9f-f5f8-4e31-95f1-5c967e402308",
   "metadata": {},
   "outputs": [
    {
     "ename": "NameError",
     "evalue": "name 'np' is not defined",
     "output_type": "error",
     "traceback": [
      "\u001b[1;31m---------------------------------------------------------------------------\u001b[0m",
      "\u001b[1;31mNameError\u001b[0m                                 Traceback (most recent call last)",
      "Cell \u001b[1;32mIn[2], line 2\u001b[0m\n\u001b[0;32m      1\u001b[0m \u001b[38;5;66;03m# c최소값, 최대값\u001b[39;00m\n\u001b[1;32m----> 2\u001b[0m (np\u001b[38;5;241m.\u001b[39mmin(arr)),np\u001b[38;5;241m.\u001b[39mmax(arr)\n",
      "\u001b[1;31mNameError\u001b[0m: name 'np' is not defined"
     ]
    }
   ],
   "source": [
    "# c최소값, 최대값\n",
    "(np.min(arr)),np.max(arr)"
   ]
  },
  {
   "cell_type": "code",
   "execution_count": 3,
   "id": "e5bb8b1f-09be-4bc9-95f9-a12638b608c1",
   "metadata": {},
   "outputs": [
    {
     "ename": "NameError",
     "evalue": "name 'np' is not defined",
     "output_type": "error",
     "traceback": [
      "\u001b[1;31m---------------------------------------------------------------------------\u001b[0m",
      "\u001b[1;31mNameError\u001b[0m                                 Traceback (most recent call last)",
      "Cell \u001b[1;32mIn[3], line 2\u001b[0m\n\u001b[0;32m      1\u001b[0m \u001b[38;5;66;03m# 분산, 표준편차\u001b[39;00m\n\u001b[1;32m----> 2\u001b[0m np\u001b[38;5;241m.\u001b[39mvar(arr),np\u001b[38;5;241m.\u001b[39mstd(arr)\n",
      "\u001b[1;31mNameError\u001b[0m: name 'np' is not defined"
     ]
    }
   ],
   "source": [
    "# 분산, 표준편차\n",
    "np.var(arr),np.std(arr)# 오류"
   ]
  },
  {
   "cell_type": "markdown",
   "id": "a2e51aee-88ac-496b-8a85-73c7d5982612",
   "metadata": {},
   "source": [
    "### IQR"
   ]
  },
  {
   "cell_type": "code",
   "execution_count": 10,
   "id": "ed29544f-1fd3-4526-97cf-2625bb00a09f",
   "metadata": {
    "tags": []
   },
   "outputs": [],
   "source": [
    "import numpy as np\n",
    "data = np.array([44, 32, 53, 75, 36, 45, 25, 49, 46, 28])"
   ]
  },
  {
   "cell_type": "code",
   "execution_count": 11,
   "id": "fbcf480d-d801-4ad0-8817-8ca270f9259e",
   "metadata": {
    "tags": []
   },
   "outputs": [],
   "source": [
    "Q1 =np.percentile(data,25)"
   ]
  },
  {
   "cell_type": "code",
   "execution_count": 12,
   "id": "dc075b54-f723-4e39-986e-df97c87bbb07",
   "metadata": {
    "tags": []
   },
   "outputs": [],
   "source": [
    "Q3 =np.percentile(data,75)"
   ]
  },
  {
   "cell_type": "code",
   "execution_count": null,
   "id": "b458fcc5-68af-4e7e-8b74-afb3ffdfcc85",
   "metadata": {},
   "outputs": [],
   "source": [
    "import numpy as np sns"
   ]
  },
  {
   "cell_type": "code",
   "execution_count": 7,
   "id": "fb5ee71c-4252-4ddf-a643-f8cd56d6d14f",
   "metadata": {
    "tags": []
   },
   "outputs": [
    {
     "data": {
      "text/plain": [
       "(33.0, 48.25)"
      ]
     },
     "execution_count": 7,
     "metadata": {},
     "output_type": "execute_result"
    }
   ],
   "source": [
    "Q1,Q3"
   ]
  },
  {
   "cell_type": "code",
   "execution_count": 8,
   "id": "84400888-7461-43b2-9d91-48a9799a3387",
   "metadata": {
    "tags": []
   },
   "outputs": [
    {
     "data": {
      "text/plain": [
       "15.25"
      ]
     },
     "execution_count": 8,
     "metadata": {},
     "output_type": "execute_result"
    }
   ],
   "source": [
    "Q3-Q1"
   ]
  },
  {
   "cell_type": "code",
   "execution_count": 9,
   "id": "252553d7-d184-471f-9fe4-3603ceeb19ce",
   "metadata": {
    "tags": []
   },
   "outputs": [
    {
     "data": {
      "text/plain": [
       "44.5"
      ]
     },
     "execution_count": 9,
     "metadata": {},
     "output_type": "execute_result"
    }
   ],
   "source": [
    "np.median(data)"
   ]
  },
  {
   "cell_type": "code",
   "execution_count": null,
   "id": "0d8a6c4c-a010-4a6f-9629-2975fb50f9e3",
   "metadata": {},
   "outputs": [],
   "source": []
  }
 ],
 "metadata": {
  "kernelspec": {
   "display_name": "Python 3 (ipykernel)",
   "language": "python",
   "name": "python3"
  },
  "language_info": {
   "codemirror_mode": {
    "name": "ipython",
    "version": 3
   },
   "file_extension": ".py",
   "mimetype": "text/x-python",
   "name": "python",
   "nbconvert_exporter": "python",
   "pygments_lexer": "ipython3",
   "version": "3.11.3"
  }
 },
 "nbformat": 4,
 "nbformat_minor": 5
}
