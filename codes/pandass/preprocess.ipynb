{
 "cells": [
  {
   "cell_type": "markdown",
   "id": "29ef788b-06f8-4540-aabe-f20f35f1007f",
   "metadata": {},
   "source": [
    "### 전처리: 특성 광학 기법 사용"
   ]
  },
  {
   "cell_type": "code",
   "execution_count": 1,
   "id": "1e30f2ed-0140-4ee8-b89a-df30c075c1bd",
   "metadata": {
    "tags": []
   },
   "outputs": [
    {
     "data": {
      "text/html": [
       "<div>\n",
       "<style scoped>\n",
       "    .dataframe tbody tr th:only-of-type {\n",
       "        vertical-align: middle;\n",
       "    }\n",
       "\n",
       "    .dataframe tbody tr th {\n",
       "        vertical-align: top;\n",
       "    }\n",
       "\n",
       "    .dataframe thead th {\n",
       "        text-align: right;\n",
       "    }\n",
       "</style>\n",
       "<table border=\"1\" class=\"dataframe\">\n",
       "  <thead>\n",
       "    <tr style=\"text-align: right;\">\n",
       "      <th></th>\n",
       "      <th>id</th>\n",
       "      <th>type_of_contract</th>\n",
       "      <th>type_of_contract2</th>\n",
       "      <th>channel</th>\n",
       "      <th>datetime</th>\n",
       "      <th>Term</th>\n",
       "      <th>payment_type</th>\n",
       "      <th>product</th>\n",
       "      <th>amount</th>\n",
       "      <th>state</th>\n",
       "      <th>overdue_count</th>\n",
       "      <th>overdue</th>\n",
       "      <th>credit rating</th>\n",
       "      <th>bank</th>\n",
       "      <th>cancellation</th>\n",
       "      <th>age</th>\n",
       "      <th>Mileage</th>\n",
       "    </tr>\n",
       "  </thead>\n",
       "  <tbody>\n",
       "    <tr>\n",
       "      <th>0</th>\n",
       "      <td>66758234</td>\n",
       "      <td>렌탈</td>\n",
       "      <td>Normal</td>\n",
       "      <td>서비스 방문</td>\n",
       "      <td>2019-10-20</td>\n",
       "      <td>60</td>\n",
       "      <td>CMS</td>\n",
       "      <td>K1</td>\n",
       "      <td>96900</td>\n",
       "      <td>계약확정</td>\n",
       "      <td>0</td>\n",
       "      <td>없음</td>\n",
       "      <td>9.0</td>\n",
       "      <td>새마을금고</td>\n",
       "      <td>정상</td>\n",
       "      <td>43.0</td>\n",
       "      <td>1862.0</td>\n",
       "    </tr>\n",
       "    <tr>\n",
       "      <th>1</th>\n",
       "      <td>66755948</td>\n",
       "      <td>렌탈</td>\n",
       "      <td>Extension_Rental</td>\n",
       "      <td>서비스 방문</td>\n",
       "      <td>2019-10-20</td>\n",
       "      <td>60</td>\n",
       "      <td>카드이체</td>\n",
       "      <td>K1</td>\n",
       "      <td>102900</td>\n",
       "      <td>계약확정</td>\n",
       "      <td>0</td>\n",
       "      <td>없음</td>\n",
       "      <td>2.0</td>\n",
       "      <td>현대카드</td>\n",
       "      <td>정상</td>\n",
       "      <td>62.0</td>\n",
       "      <td>2532.0</td>\n",
       "    </tr>\n",
       "  </tbody>\n",
       "</table>\n",
       "</div>"
      ],
      "text/plain": [
       "         id type_of_contract type_of_contract2 channel    datetime  Term  \\\n",
       "0  66758234               렌탈            Normal  서비스 방문  2019-10-20    60   \n",
       "1  66755948               렌탈  Extension_Rental  서비스 방문  2019-10-20    60   \n",
       "\n",
       "  payment_type product  amount state  overdue_count overdue  credit rating  \\\n",
       "0          CMS      K1   96900  계약확정              0      없음            9.0   \n",
       "1         카드이체      K1  102900  계약확정              0      없음            2.0   \n",
       "\n",
       "    bank cancellation   age  Mileage  \n",
       "0  새마을금고           정상  43.0   1862.0  \n",
       "1   현대카드           정상  62.0   2532.0  "
      ]
     },
     "execution_count": 1,
     "metadata": {},
     "output_type": "execute_result"
    }
   ],
   "source": [
    "import pandas as pd\n",
    "df_TOCC = pd.read_csv('../../datasets/TypeOfContractChannel.csv')\n",
    "df_TOCC[:2]"
   ]
  },
  {
   "cell_type": "markdown",
   "id": "8b883377-a943-4622-a10e-3be49829cdaa",
   "metadata": {},
   "source": [
    "### 결측치\n",
    "- 결측치확인 : df.isnull().sum()\n",
    "- 결측치 치환 : 대표값 또는 knn(머신 러닌 한 종류)\n",
    "- 결측치 삭제 :.dropna(subset=['',''] )"
   ]
  },
  {
   "cell_type": "code",
   "execution_count": 2,
   "id": "7c950b95-5ee5-4a5b-9320-0c03c2743071",
   "metadata": {
    "tags": []
   },
   "outputs": [
    {
     "name": "stdout",
     "output_type": "stream",
     "text": [
      "<class 'pandas.core.frame.DataFrame'>\n",
      "RangeIndex: 51304 entries, 0 to 51303\n",
      "Data columns (total 17 columns):\n",
      " #   Column             Non-Null Count  Dtype  \n",
      "---  ------             --------------  -----  \n",
      " 0   id                 51304 non-null  int64  \n",
      " 1   type_of_contract   51300 non-null  object \n",
      " 2   type_of_contract2  51303 non-null  object \n",
      " 3   channel            51304 non-null  object \n",
      " 4   datetime           51304 non-null  object \n",
      " 5   Term               51304 non-null  int64  \n",
      " 6   payment_type       51304 non-null  object \n",
      " 7   product            51303 non-null  object \n",
      " 8   amount             51304 non-null  int64  \n",
      " 9   state              51304 non-null  object \n",
      " 10  overdue_count      51304 non-null  int64  \n",
      " 11  overdue            51302 non-null  object \n",
      " 12  credit rating      42521 non-null  float64\n",
      " 13  bank               48544 non-null  object \n",
      " 14  cancellation       51279 non-null  object \n",
      " 15  age                40509 non-null  float64\n",
      " 16  Mileage            40509 non-null  float64\n",
      "dtypes: float64(3), int64(4), object(10)\n",
      "memory usage: 6.7+ MB\n"
     ]
    }
   ],
   "source": [
    "df_TOCC.info()"
   ]
  },
  {
   "cell_type": "code",
   "execution_count": 3,
   "id": "d08c91e9-09f7-4852-99d2-8f421dd3867e",
   "metadata": {
    "tags": []
   },
   "outputs": [
    {
     "data": {
      "text/plain": [
       "id                       0\n",
       "type_of_contract         4\n",
       "type_of_contract2        1\n",
       "channel                  0\n",
       "datetime                 0\n",
       "Term                     0\n",
       "payment_type             0\n",
       "product                  1\n",
       "amount                   0\n",
       "state                    0\n",
       "overdue_count            0\n",
       "overdue                  2\n",
       "credit rating         8783\n",
       "bank                  2760\n",
       "cancellation            25\n",
       "age                  10795\n",
       "Mileage              10795\n",
       "dtype: int64"
      ]
     },
     "execution_count": 3,
     "metadata": {},
     "output_type": "execute_result"
    }
   ],
   "source": [
    "df_TOCC.isnull().sum() "
   ]
  },
  {
   "cell_type": "code",
   "execution_count": 4,
   "id": "db607d51-d39c-4847-b09e-6b6d8aeb98e4",
   "metadata": {
    "tags": []
   },
   "outputs": [
    {
     "name": "stdout",
     "output_type": "stream",
     "text": [
      "<class 'pandas.core.frame.DataFrame'>\n",
      "Int64Index: 40480 entries, 0 to 51303\n",
      "Data columns (total 17 columns):\n",
      " #   Column             Non-Null Count  Dtype  \n",
      "---  ------             --------------  -----  \n",
      " 0   id                 40480 non-null  int64  \n",
      " 1   type_of_contract   40480 non-null  object \n",
      " 2   type_of_contract2  40480 non-null  object \n",
      " 3   channel            40480 non-null  object \n",
      " 4   datetime           40480 non-null  object \n",
      " 5   Term               40480 non-null  int64  \n",
      " 6   payment_type       40480 non-null  object \n",
      " 7   product            40480 non-null  object \n",
      " 8   amount             40480 non-null  int64  \n",
      " 9   state              40480 non-null  object \n",
      " 10  overdue_count      40480 non-null  int64  \n",
      " 11  overdue            40480 non-null  object \n",
      " 12  credit rating      40480 non-null  float64\n",
      " 13  bank               40480 non-null  object \n",
      " 14  cancellation       40480 non-null  object \n",
      " 15  age                40480 non-null  float64\n",
      " 16  Mileage            40480 non-null  float64\n",
      "dtypes: float64(3), int64(4), object(10)\n",
      "memory usage: 5.6+ MB\n"
     ]
    }
   ],
   "source": [
    "df_TOCC_dropna = df_TOCC.dropna()\n",
    "df_TOCC_dropna.info()"
   ]
  },
  {
   "cell_type": "code",
   "execution_count": 5,
   "id": "e2b6591c-c626-4d41-815e-506302ed947b",
   "metadata": {
    "tags": []
   },
   "outputs": [
    {
     "name": "stdout",
     "output_type": "stream",
     "text": [
      "<class 'pandas.core.frame.DataFrame'>\n",
      "Int64Index: 48544 entries, 0 to 51303\n",
      "Data columns (total 17 columns):\n",
      " #   Column             Non-Null Count  Dtype  \n",
      "---  ------             --------------  -----  \n",
      " 0   id                 48544 non-null  int64  \n",
      " 1   type_of_contract   48540 non-null  object \n",
      " 2   type_of_contract2  48543 non-null  object \n",
      " 3   channel            48544 non-null  object \n",
      " 4   datetime           48544 non-null  object \n",
      " 5   Term               48544 non-null  int64  \n",
      " 6   payment_type       48544 non-null  object \n",
      " 7   product            48543 non-null  object \n",
      " 8   amount             48544 non-null  int64  \n",
      " 9   state              48544 non-null  object \n",
      " 10  overdue_count      48544 non-null  int64  \n",
      " 11  overdue            48542 non-null  object \n",
      " 12  credit rating      42519 non-null  float64\n",
      " 13  bank               48544 non-null  object \n",
      " 14  cancellation       48519 non-null  object \n",
      " 15  age                40507 non-null  float64\n",
      " 16  Mileage            40507 non-null  float64\n",
      "dtypes: float64(3), int64(4), object(10)\n",
      "memory usage: 6.7+ MB\n"
     ]
    }
   ],
   "source": [
    "df_TOCC.dropna(subset=['bank'] ).info()"
   ]
  },
  {
   "cell_type": "code",
   "execution_count": null,
   "id": "a80db1e2-057b-43ef-b321-5c31ac337bf3",
   "metadata": {},
   "outputs": [],
   "source": [
    "### 이상치 : 사분의 외의 값\n",
    "\n",
    "-  Q3+1.5* IQR 밖의 값"
   ]
  },
  {
   "cell_type": "code",
   "execution_count": 6,
   "id": "a1e94cc0-8b5e-4287-9ee6-6104bf5c489f",
   "metadata": {
    "tags": []
   },
   "outputs": [
    {
     "data": {
      "text/plain": [
       "count    40509.000000\n",
       "mean        46.608285\n",
       "std         13.465977\n",
       "min         20.000000\n",
       "25%         37.000000\n",
       "50%         46.000000\n",
       "75%         56.000000\n",
       "max        107.000000\n",
       "Name: age, dtype: float64"
      ]
     },
     "execution_count": 6,
     "metadata": {},
     "output_type": "execute_result"
    }
   ],
   "source": [
    "df_TOCC['age']. describe()"
   ]
  },
  {
   "cell_type": "code",
   "execution_count": 7,
   "id": "d12e80c7-7ecf-439e-8666-4a39088479d9",
   "metadata": {
    "tags": []
   },
   "outputs": [],
   "source": [
    "# Q1,Q3 구함\n",
    "Q1 = df_TOCC['age']. describe()['25%']\n",
    "Q3 = df_TOCC['age']. describe()['75%']\n",
    "IQR = Q3 - Q1\n"
   ]
  },
  {
   "cell_type": "code",
   "execution_count": 8,
   "id": "a26d2ec7-68d2-4f39-a903-f6bc40302cb4",
   "metadata": {
    "tags": []
   },
   "outputs": [
    {
     "data": {
      "text/plain": [
       "(37.0, 56.0, 19.0)"
      ]
     },
     "execution_count": 8,
     "metadata": {},
     "output_type": "execute_result"
    }
   ],
   "source": [
    "Q1,Q3, IQR"
   ]
  },
  {
   "cell_type": "code",
   "execution_count": 9,
   "id": "f23cfa2f-782d-4b78-bd69-2ee136be8b03",
   "metadata": {
    "tags": []
   },
   "outputs": [
    {
     "data": {
      "text/plain": [
       "(8.5, 84.5)"
      ]
     },
     "execution_count": 9,
     "metadata": {},
     "output_type": "execute_result"
    }
   ],
   "source": [
    "bound_up = Q3+1.5* IQR\n",
    "bound_low = Q1-1.5* IQR\n",
    "bound_low,bound_up"
   ]
  },
  {
   "cell_type": "code",
   "execution_count": 14,
   "id": "1cb7a69b-7219-4bb2-a382-b7e7e0193341",
   "metadata": {
    "tags": []
   },
   "outputs": [
    {
     "data": {
      "text/plain": [
       "0         True\n",
       "1         True\n",
       "2         True\n",
       "3         True\n",
       "4         True\n",
       "         ...  \n",
       "51299    False\n",
       "51300     True\n",
       "51301     True\n",
       "51302     True\n",
       "51303     True\n",
       "Name: age, Length: 51304, dtype: bool"
      ]
     },
     "execution_count": 14,
     "metadata": {},
     "output_type": "execute_result"
    }
   ],
   "source": [
    "# filler\n",
    "condition =(df_TOCC['age']<=bound_up) # 긍정 조건 변화\n",
    "condition "
   ]
  },
  {
   "cell_type": "code",
   "execution_count": 19,
   "id": "5e685b29-2f73-4a55-bc69-b9ed4b03bae3",
   "metadata": {
    "tags": []
   },
   "outputs": [],
   "source": [
    "df_TOCC_condition =df_TOCC[condition]"
   ]
  },
  {
   "cell_type": "code",
   "execution_count": 18,
   "id": "5c668cd7-3fac-43c6-921a-538cb33f2c31",
   "metadata": {
    "tags": []
   },
   "outputs": [
    {
     "data": {
      "text/plain": [
       "<Axes: xlabel='age'>"
      ]
     },
     "execution_count": 18,
     "metadata": {},
     "output_type": "execute_result"
    },
    {
     "data": {
      "image/png": "[encoded data removed]",
      "text/plain": [
       "<Figure size 640x480 with 1 Axes>"
      ]
     },
     "metadata": {},
     "output_type": "display_data"
    }
   ],
   "source": [
    "import seaborn as sns\n",
    "sns.boxplot(df_TOCC_condition, x= 'age')"
   ]
  },
  {
   "cell_type": "code",
   "execution_count": null,
   "id": "cd4b9f10-f601-4680-b898-e37def4d4550",
   "metadata": {},
   "outputs": [],
   "source": [
    "sns.boxplot()"
   ]
  }
 ],
 "metadata": {
  "kernelspec": {
   "display_name": "Python 3 (ipykernel)",
   "language": "python",
   "name": "python3"
  },
  "language_info": {
   "codemirror_mode": {
    "name": "ipython",
    "version": 3
   },
   "file_extension": ".py",
   "mimetype": "text/x-python",
   "name": "python",
   "nbconvert_exporter": "python",
   "pygments_lexer": "ipython3",
   "version": "3.11.3"
  }
 },
 "nbformat": 4,
 "nbformat_minor": 5
}
