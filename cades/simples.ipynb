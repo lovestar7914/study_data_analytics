{
 "cells": [
  {
   "cell_type": "code",
   "execution_count": 2,
   "id": "48b96d04-774d-4cbc-9163-7985ae769d4b",
   "metadata": {
    "tags": []
   },
   "outputs": [],
   "source": [
    "x_value =[ 0,1,2,3,4]"
   ]
  },
  {
   "cell_type": "code",
   "execution_count": 5,
   "id": "c1c0843c-0890-442f-99ee-3a523e1d95ca",
   "metadata": {
    "tags": []
   },
   "outputs": [
    {
     "data": {
      "text/plain": [
       "([0, 1, 2, 3, 4], 5)"
      ]
     },
     "execution_count": 5,
     "metadata": {},
     "output_type": "execute_result"
    }
   ],
   "source": [
    "x_value,len(x_value)"
   ]
  },
  {
   "cell_type": "code",
   "execution_count": 7,
   "id": "6f4b64f0-7561-44c8-bba2-725fc94f9a6f",
   "metadata": {
    "tags": []
   },
   "outputs": [
    {
     "data": {
      "text/plain": [
       "([1, 3, 5, 7, 9], 5)"
      ]
     },
     "execution_count": 7,
     "metadata": {},
     "output_type": "execute_result"
    }
   ],
   "source": [
    "y_value = [1,3,5,7,9]\n",
    "y_value,len(y_value)"
   ]
  },
  {
   "cell_type": "code",
   "execution_count": null,
   "id": "14c485ad-36f4-4b4d-957c-bf1798c9a50f",
   "metadata": {},
   "outputs": [],
   "source": []
  }
 ],
 "metadata": {
  "kernelspec": {
   "display_name": "Python 3 (ipykernel)",
   "language": "python",
   "name": "python3"
  },
  "language_info": {
   "codemirror_mode": {
    "name": "ipython",
    "version": 3
   },
   "file_extension": ".py",
   "mimetype": "text/x-python",
   "name": "python",
   "nbconvert_exporter": "python",
   "pygments_lexer": "ipython3",
   "version": "3.11.3"
  }
 },
 "nbformat": 4,
 "nbformat_minor": 5
}
